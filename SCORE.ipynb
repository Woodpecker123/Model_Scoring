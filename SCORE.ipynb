{
 "cells": [
  {
   "cell_type": "code",
   "execution_count": null,
   "id": "8a5cb7e5-0706-46e5-8e40-d94f184536a8",
   "metadata": {},
   "outputs": [],
   "source": [
    "import sasctl\n",
    "from sasctl import Session\n",
    "from sasctl import publish_model\n",
    "from sasctl.services import microanalytic_score as mas\n",
    "from sasctl.services import model_repository as mrb"
   ]
  },
  {
   "cell_type": "code",
   "execution_count": null,
   "id": "73cb2e17-6459-4b5d-b437-ad1b44581a82",
   "metadata": {},
   "outputs": [],
   "source": [
    "session = Session('https://sit.woodpecker.com','akash','akash@2024',verify_ssl=False)"
   ]
  },
  {
   "cell_type": "code",
   "execution_count": null,
   "id": "6dba28e4-b39f-4eeb-b94e-069133174e56",
   "metadata": {},
   "outputs": [],
   "source": [
    "model = \"GB_Test\"\n",
    "module = publish_model(model,'maslocal')\n",
    "print(module)"
   ]
  },
  {
   "cell_type": "code",
   "execution_count": null,
   "id": "7eecba14-b2e2-40de-a7c3-3f93977dc05d",
   "metadata": {},
   "outputs": [],
   "source": [
    "df = pd.read_csv('donor_score_data.csv')\n",
    "sampled_df = df"
   ]
  },
  {
   "cell_type": "code",
   "execution_count": null,
   "id": "3904e916-e4e9-4cdc-aca7-a13ff2c728ef",
   "metadata": {},
   "outputs": [],
   "source": [
    "scored_results =[]\n",
    "\n",
    "for index , row in sampled_df.iterrows():\n",
    "    try:\n",
    "        response = module.score(**row.to_dict())\n",
    "        \n",
    "        if isinstance(response,tuple):\n",
    "            EM_CLASSIFICATION  = response[0]\n",
    "            EM_EVENTPROBABILITY = response[1]\n",
    "        else:\n",
    "            EM_CLASSIFICATION = response['EM_CLASSIFICATION']\n",
    "            EM_EVENTPROBABILITY = response['EM_EVENTPROBABILITY']\n",
    "    \n",
    "        scored_results.append({\n",
    "        **row.to_dict(),\n",
    "        'EM_CLASSIFICATION': EM_CLASSIFICATION,\n",
    "        'EM_EVENTPROBABILITY': EM_EVENTPROBABILITY\n",
    "    })\n",
    "    except Exception as e:\n",
    "        print(f\"Error scoring row {index}:{e}\")\n",
    "        \n",
    "scored_df = pd.DataFrame(scored_results) \n",
    "scored_df.head()"
   ]
  }
 ],
 "metadata": {
  "kernelspec": {
   "display_name": "Python 3 (ipykernel)",
   "language": "python",
   "name": "python3"
  },
  "language_info": {
   "codemirror_mode": {
    "name": "ipython",
    "version": 3
   },
   "file_extension": ".py",
   "mimetype": "text/x-python",
   "name": "python",
   "nbconvert_exporter": "python",
   "pygments_lexer": "ipython3",
   "version": "3.11.5"
  }
 },
 "nbformat": 4,
 "nbformat_minor": 5
}

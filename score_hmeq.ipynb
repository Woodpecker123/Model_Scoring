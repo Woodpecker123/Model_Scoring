{
 "cells": [
  {
   "cell_type": "code",
   "execution_count": null,
   "id": "c4b1ccd3-fc24-4cf8-af90-b24cef1deb94",
   "metadata": {},
   "outputs": [],
   "source": [
    "import sasctl\n",
    "from sasctl import Session\n",
    "from sasctl import publish_model\n",
    "from sasctl.services import microanalytic_score as mas\n",
    "from sasctl.services import model_repository as mr"
   ]
  },
  {
   "cell_type": "code",
   "execution_count": null,
   "id": "a9a82b62-e924-434b-8375-b3e4d851c1b2",
   "metadata": {},
   "outputs": [],
   "source": [
    "session = Session('https://sit.woodpecker.com','akash','akash@2024',verify_ssl=False)"
   ]
  },
  {
   "cell_type": "code",
   "execution_count": null,
   "id": "f474c540-f493-4288-87d0-b4e6400a2b47",
   "metadata": {},
   "outputs": [],
   "source": [
    "model = \"GradientBoosting\"\n",
    "module = publish_model(model,'maslocal')\n",
    "print(module)"
   ]
  },
  {
   "cell_type": "code",
   "execution_count": null,
   "id": "d9f73b7f-b231-4c64-94cc-ded3fd1c2a38",
   "metadata": {},
   "outputs": [],
   "source": [
    "import pandas as pd\n",
    "\n",
    "df = pd.read_csv('hmeq.csv')\n",
    "sampled_hmeq = df.sample(n=100, random_state=42)\n",
    "\n",
    "# Remove the 'BAD' column\n",
    "sampled_hmeq = sampled_hmeq.drop(columns=['BAD','REASON','JOB']).dropna()"
   ]
  },
  {
   "cell_type": "code",
   "execution_count": null,
   "id": "b3f0dc8b-b5a9-4265-886c-89cba1201cd3",
   "metadata": {},
   "outputs": [],
   "source": [
    "scored_results =[]\n",
    "\n",
    "for index , row in sampled_hmeq.iterrows():\n",
    "    try:\n",
    "        response = module.score(**row.to_dict())\n",
    "        \n",
    "        if isinstance(response,tuple):\n",
    "            EM_CLASSIFICATION  = response[0]\n",
    "            EM_EVENTPROBABILITY = response[1]\n",
    "        else:\n",
    "            EM_CLASSIFICATION = response['EM_CLASSIFICATION']\n",
    "            EM_EVENTPROBABILITY = response['EM_EVENTPROBABILITY']\n",
    "    \n",
    "        scored_results.append({\n",
    "        **row.to_dict(),\n",
    "        'EM_CLASSIFICATION': EM_CLASSIFICATION,\n",
    "        'EM_EVENTPROBABILITY': EM_EVENTPROBABILITY\n",
    "    })\n",
    "    except Exception as e:\n",
    "        print(f\"Error scoring row {index}:{e}\")\n",
    "        \n",
    "scored_df = pd.DataFrame(scored_results) \n",
    "scored_df"
   ]
  }
 ],
 "metadata": {
  "kernelspec": {
   "display_name": "Python 3 (ipykernel)",
   "language": "python",
   "name": "python3"
  },
  "language_info": {
   "codemirror_mode": {
    "name": "ipython",
    "version": 3
   },
   "file_extension": ".py",
   "mimetype": "text/x-python",
   "name": "python",
   "nbconvert_exporter": "python",
   "pygments_lexer": "ipython3",
   "version": "3.11.5"
  }
 },
 "nbformat": 4,
 "nbformat_minor": 5
}
